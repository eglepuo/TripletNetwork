{
  "nbformat": 4,
  "nbformat_minor": 0,
  "metadata": {
    "accelerator": "GPU",
    "colab": {
      "name": "Bakalauras.ipynb",
      "provenance": [],
      "collapsed_sections": [],
      "toc_visible": true,
      "include_colab_link": true
    },
    "kernelspec": {
      "display_name": "Python 3",
      "language": "python",
      "name": "python3"
    },
    "language_info": {
      "codemirror_mode": {
        "name": "ipython",
        "version": 3
      },
      "file_extension": ".py",
      "mimetype": "text/x-python",
      "name": "python",
      "nbconvert_exporter": "python",
      "pygments_lexer": "ipython3",
      "version": "3.6.9"
    }
  },
  "cells": [
    {
      "cell_type": "markdown",
      "metadata": {
        "id": "view-in-github",
        "colab_type": "text"
      },
      "source": [
        "<a href=\"https://colab.research.google.com/github/eglepuo/TripletNetwork/blob/master/Bakalauras.ipynb\" target=\"_parent\"><img src=\"https://colab.research.google.com/assets/colab-badge.svg\" alt=\"Open In Colab\"/></a>"
      ]
    },
    {
      "cell_type": "code",
      "metadata": {
        "id": "ROU9tmjkIWOX",
        "colab": {
          "base_uri": "https://localhost:8080/"
        },
        "outputId": "42608d96-ac50-4699-a23e-34921a5ef6c8"
      },
      "source": [
        "!pip install tensorflow_addons\n"
      ],
      "execution_count": null,
      "outputs": [
        {
          "output_type": "stream",
          "text": [
            "Collecting tensorflow_addons\n",
            "\u001b[?25l  Downloading https://files.pythonhosted.org/packages/74/e3/56d2fe76f0bb7c88ed9b2a6a557e25e83e252aec08f13de34369cd850a0b/tensorflow_addons-0.12.1-cp37-cp37m-manylinux2010_x86_64.whl (703kB)\n",
            "\r\u001b[K     |▌                               | 10kB 16.2MB/s eta 0:00:01\r\u001b[K     |█                               | 20kB 22.5MB/s eta 0:00:01\r\u001b[K     |█▍                              | 30kB 13.0MB/s eta 0:00:01\r\u001b[K     |█▉                              | 40kB 14.1MB/s eta 0:00:01\r\u001b[K     |██▎                             | 51kB 8.9MB/s eta 0:00:01\r\u001b[K     |██▉                             | 61kB 8.4MB/s eta 0:00:01\r\u001b[K     |███▎                            | 71kB 9.4MB/s eta 0:00:01\r\u001b[K     |███▊                            | 81kB 10.3MB/s eta 0:00:01\r\u001b[K     |████▏                           | 92kB 9.5MB/s eta 0:00:01\r\u001b[K     |████▋                           | 102kB 8.6MB/s eta 0:00:01\r\u001b[K     |█████▏                          | 112kB 8.6MB/s eta 0:00:01\r\u001b[K     |█████▋                          | 122kB 8.6MB/s eta 0:00:01\r\u001b[K     |██████                          | 133kB 8.6MB/s eta 0:00:01\r\u001b[K     |██████▌                         | 143kB 8.6MB/s eta 0:00:01\r\u001b[K     |███████                         | 153kB 8.6MB/s eta 0:00:01\r\u001b[K     |███████▌                        | 163kB 8.6MB/s eta 0:00:01\r\u001b[K     |████████                        | 174kB 8.6MB/s eta 0:00:01\r\u001b[K     |████████▍                       | 184kB 8.6MB/s eta 0:00:01\r\u001b[K     |████████▉                       | 194kB 8.6MB/s eta 0:00:01\r\u001b[K     |█████████▎                      | 204kB 8.6MB/s eta 0:00:01\r\u001b[K     |█████████▉                      | 215kB 8.6MB/s eta 0:00:01\r\u001b[K     |██████████▎                     | 225kB 8.6MB/s eta 0:00:01\r\u001b[K     |██████████▊                     | 235kB 8.6MB/s eta 0:00:01\r\u001b[K     |███████████▏                    | 245kB 8.6MB/s eta 0:00:01\r\u001b[K     |███████████▋                    | 256kB 8.6MB/s eta 0:00:01\r\u001b[K     |████████████▏                   | 266kB 8.6MB/s eta 0:00:01\r\u001b[K     |████████████▋                   | 276kB 8.6MB/s eta 0:00:01\r\u001b[K     |█████████████                   | 286kB 8.6MB/s eta 0:00:01\r\u001b[K     |█████████████▌                  | 296kB 8.6MB/s eta 0:00:01\r\u001b[K     |██████████████                  | 307kB 8.6MB/s eta 0:00:01\r\u001b[K     |██████████████▍                 | 317kB 8.6MB/s eta 0:00:01\r\u001b[K     |███████████████                 | 327kB 8.6MB/s eta 0:00:01\r\u001b[K     |███████████████▍                | 337kB 8.6MB/s eta 0:00:01\r\u001b[K     |███████████████▉                | 348kB 8.6MB/s eta 0:00:01\r\u001b[K     |████████████████▎               | 358kB 8.6MB/s eta 0:00:01\r\u001b[K     |████████████████▊               | 368kB 8.6MB/s eta 0:00:01\r\u001b[K     |█████████████████▎              | 378kB 8.6MB/s eta 0:00:01\r\u001b[K     |█████████████████▊              | 389kB 8.6MB/s eta 0:00:01\r\u001b[K     |██████████████████▏             | 399kB 8.6MB/s eta 0:00:01\r\u001b[K     |██████████████████▋             | 409kB 8.6MB/s eta 0:00:01\r\u001b[K     |███████████████████             | 419kB 8.6MB/s eta 0:00:01\r\u001b[K     |███████████████████▋            | 430kB 8.6MB/s eta 0:00:01\r\u001b[K     |████████████████████            | 440kB 8.6MB/s eta 0:00:01\r\u001b[K     |████████████████████▌           | 450kB 8.6MB/s eta 0:00:01\r\u001b[K     |█████████████████████           | 460kB 8.6MB/s eta 0:00:01\r\u001b[K     |█████████████████████▍          | 471kB 8.6MB/s eta 0:00:01\r\u001b[K     |██████████████████████          | 481kB 8.6MB/s eta 0:00:01\r\u001b[K     |██████████████████████▍         | 491kB 8.6MB/s eta 0:00:01\r\u001b[K     |██████████████████████▉         | 501kB 8.6MB/s eta 0:00:01\r\u001b[K     |███████████████████████▎        | 512kB 8.6MB/s eta 0:00:01\r\u001b[K     |███████████████████████▊        | 522kB 8.6MB/s eta 0:00:01\r\u001b[K     |████████████████████████▎       | 532kB 8.6MB/s eta 0:00:01\r\u001b[K     |████████████████████████▊       | 542kB 8.6MB/s eta 0:00:01\r\u001b[K     |█████████████████████████▏      | 552kB 8.6MB/s eta 0:00:01\r\u001b[K     |█████████████████████████▋      | 563kB 8.6MB/s eta 0:00:01\r\u001b[K     |██████████████████████████      | 573kB 8.6MB/s eta 0:00:01\r\u001b[K     |██████████████████████████▋     | 583kB 8.6MB/s eta 0:00:01\r\u001b[K     |███████████████████████████     | 593kB 8.6MB/s eta 0:00:01\r\u001b[K     |███████████████████████████▌    | 604kB 8.6MB/s eta 0:00:01\r\u001b[K     |████████████████████████████    | 614kB 8.6MB/s eta 0:00:01\r\u001b[K     |████████████████████████████▍   | 624kB 8.6MB/s eta 0:00:01\r\u001b[K     |████████████████████████████▉   | 634kB 8.6MB/s eta 0:00:01\r\u001b[K     |█████████████████████████████▍  | 645kB 8.6MB/s eta 0:00:01\r\u001b[K     |█████████████████████████████▉  | 655kB 8.6MB/s eta 0:00:01\r\u001b[K     |██████████████████████████████▎ | 665kB 8.6MB/s eta 0:00:01\r\u001b[K     |██████████████████████████████▊ | 675kB 8.6MB/s eta 0:00:01\r\u001b[K     |███████████████████████████████▏| 686kB 8.6MB/s eta 0:00:01\r\u001b[K     |███████████████████████████████▊| 696kB 8.6MB/s eta 0:00:01\r\u001b[K     |████████████████████████████████| 706kB 8.6MB/s \n",
            "\u001b[?25hRequirement already satisfied: typeguard>=2.7 in /usr/local/lib/python3.7/dist-packages (from tensorflow_addons) (2.7.1)\n",
            "Installing collected packages: tensorflow-addons\n",
            "Successfully installed tensorflow-addons-0.12.1\n"
          ],
          "name": "stdout"
        }
      ]
    },
    {
      "cell_type": "code",
      "metadata": {
        "id": "wAIXr2mVIWOc",
        "colab": {
          "base_uri": "https://localhost:8080/",
          "height": 368
        },
        "outputId": "a541df27-61af-4ef5-cd09-892dbe38683f"
      },
      "source": [
        "import json, h5py, os, shutil, sys\n",
        "import numpy as np\n",
        "import matplotlib.pyplot as plt\n",
        "from time import time\n",
        "from PIL import Image\n",
        "\n",
        "import tensorflow as tf\n",
        "from tensorflow import saved_model\n",
        "from tensorflow.keras import backend, applications, optimizers\n",
        "from tensorflow.keras.models import Model, Sequential\n",
        "from tensorflow.keras.layers import Input, Dropout, Flatten, Dense, Reshape\n",
        "from tensorflow.keras.callbacks import Callback, TensorBoard, ModelCheckpoint, EarlyStopping, ReduceLROnPlateau\n",
        "from tensorflow.keras.preprocessing.image import ImageDataGenerator\n",
        "from tensorflow.python.framework import ops\n",
        "import tensorflow_addons as tfa\n",
        "\n",
        "import math\n",
        "import os"
      ],
      "execution_count": null,
      "outputs": [
        {
          "output_type": "error",
          "ename": "ModuleNotFoundError",
          "evalue": "ignored",
          "traceback": [
            "\u001b[0;31m---------------------------------------------------------------------------\u001b[0m",
            "\u001b[0;31mModuleNotFoundError\u001b[0m                       Traceback (most recent call last)",
            "\u001b[0;32m<ipython-input-1-cd95302017e0>\u001b[0m in \u001b[0;36m<module>\u001b[0;34m()\u001b[0m\n\u001b[1;32m     13\u001b[0m \u001b[0;32mfrom\u001b[0m \u001b[0mtensorflow\u001b[0m\u001b[0;34m.\u001b[0m\u001b[0mkeras\u001b[0m\u001b[0;34m.\u001b[0m\u001b[0mpreprocessing\u001b[0m\u001b[0;34m.\u001b[0m\u001b[0mimage\u001b[0m \u001b[0;32mimport\u001b[0m \u001b[0mImageDataGenerator\u001b[0m\u001b[0;34m\u001b[0m\u001b[0;34m\u001b[0m\u001b[0m\n\u001b[1;32m     14\u001b[0m \u001b[0;32mfrom\u001b[0m \u001b[0mtensorflow\u001b[0m\u001b[0;34m.\u001b[0m\u001b[0mpython\u001b[0m\u001b[0;34m.\u001b[0m\u001b[0mframework\u001b[0m \u001b[0;32mimport\u001b[0m \u001b[0mops\u001b[0m\u001b[0;34m\u001b[0m\u001b[0;34m\u001b[0m\u001b[0m\n\u001b[0;32m---> 15\u001b[0;31m \u001b[0;32mimport\u001b[0m \u001b[0mtensorflow_addons\u001b[0m \u001b[0;32mas\u001b[0m \u001b[0mtfa\u001b[0m\u001b[0;34m\u001b[0m\u001b[0;34m\u001b[0m\u001b[0m\n\u001b[0m\u001b[1;32m     16\u001b[0m \u001b[0;34m\u001b[0m\u001b[0m\n\u001b[1;32m     17\u001b[0m \u001b[0;32mimport\u001b[0m \u001b[0mmath\u001b[0m\u001b[0;34m\u001b[0m\u001b[0;34m\u001b[0m\u001b[0m\n",
            "\u001b[0;31mModuleNotFoundError\u001b[0m: No module named 'tensorflow_addons'",
            "",
            "\u001b[0;31m---------------------------------------------------------------------------\u001b[0;32m\nNOTE: If your import is failing due to a missing package, you can\nmanually install dependencies using either !pip or !apt.\n\nTo view examples of installing some common dependencies, click the\n\"Open Examples\" button below.\n\u001b[0;31m---------------------------------------------------------------------------\u001b[0m\n"
          ]
        }
      ]
    },
    {
      "cell_type": "code",
      "metadata": {
        "id": "ilsJnhQRIWOe"
      },
      "source": [
        "def enable_gpu_memory_growth():\n",
        "    \"\"\"\n",
        "    Enables memory groth mode for GPUs.\n",
        "    \"\"\"\n",
        "    gpus = tf.config.experimental.list_physical_devices('GPU')\n",
        "    assert len(gpus) > 0, \"No GPUs detected!\"\n",
        "            \n",
        "    for gpu in gpus:\n",
        "        tf.config.experimental.set_memory_growth(gpu, True)\n",
        "\n",
        "# enable_gpu_memory_growth()"
      ],
      "execution_count": null,
      "outputs": []
    },
    {
      "cell_type": "code",
      "metadata": {
        "id": "8YuNzPqBIWOh"
      },
      "source": [
        "tf.compat.v1.logging.set_verbosity(tf.compat.v1.logging.ERROR)\n",
        "os.environ['TF_CPP_MIN_LOG_LEVEL'] = '2'\n",
        "\n",
        "print(\"TensorFlow version: \" + tf.__version__)"
      ],
      "execution_count": null,
      "outputs": []
    },
    {
      "cell_type": "code",
      "metadata": {
        "id": "gC9OWEhWIWOj"
      },
      "source": [
        "checkpoint_dir = os.path.join('/content/drive/My Drive/runtime_files', 'saved_model')\n",
        "checkpoint_auto_dir = os.path.join('/content/drive/My Drive/runtime_files', 'auto_saved_model.h5')\n",
        "tensorboard_log_dir = os.path.join('/content/drive/My Drive/runtime_files', 'logs', str(time()))\n",
        "\n",
        "#config = SimilarityConfigParser()"
      ],
      "execution_count": null,
      "outputs": []
    },
    {
      "cell_type": "markdown",
      "metadata": {
        "id": "uLShO-sRIWOn"
      },
      "source": [
        "# Importing the data"
      ]
    },
    {
      "cell_type": "code",
      "metadata": {
        "id": "hh19MlGtI8XV"
      },
      "source": [
        "from google.colab import drive\n",
        "drive.mount('/content/drive')"
      ],
      "execution_count": null,
      "outputs": []
    },
    {
      "cell_type": "code",
      "metadata": {
        "id": "ncT4L8CFIWOn"
      },
      "source": [
        "batch_size = 1\n",
        "argN = 64\n",
        "\n",
        "train_folder = '/content/drive/My Drive/final_bakalauro_data'\n",
        "test_folder = '/content/drive/My Drive/final_bakalauro_data'\n",
        "\n",
        "train_dir_anchor = os.path.join(train_folder, 'train_a')\n",
        "train_dir_positive = os.path.join(train_folder, 'train_p')\n",
        "train_dir_negative = os.path.join(train_folder, 'train_n_')\n",
        "\n",
        "valid_dir_anchor = os.path.join(train_folder, 'valid_a')\n",
        "valid_dir_positive = os.path.join(train_folder, 'valid_p')\n",
        "valid_dir_negative = os.path.join(train_folder, 'valid_n')\n",
        "\n",
        "test_dir_anchor = os.path.join(test_folder, 'test_a')\n",
        "test_dir_positive = os.path.join(test_folder, 'test_p')\n",
        "test_dir_negative = os.path.join(test_folder, 'test_n')"
      ],
      "execution_count": null,
      "outputs": []
    },
    {
      "cell_type": "code",
      "metadata": {
        "id": "6LxK_ptIIWOp"
      },
      "source": [
        "def train_generator_triplet():\n",
        "    gen = ImageDataGenerator()\n",
        "    gen_a = gen.flow_from_directory(directory = train_dir_anchor, target_size = (224, 224), batch_size = batch_size, class_mode = 'categorical', shuffle = False)\n",
        "    gen_p = gen.flow_from_directory(directory = train_dir_positive, target_size = (224, 224), batch_size = batch_size, class_mode = 'categorical', shuffle = False)\n",
        "    gen_n = gen.flow_from_directory(directory = train_dir_negative, target_size = (224, 224), batch_size = batch_size, class_mode = 'categorical', shuffle = False)\n",
        "    while True:\n",
        "        an = gen_a.next()\n",
        "        po = gen_p.next()\n",
        "        ne = gen_n.next()\n",
        "        yield [an[0], po[0], ne[0]], an[1]\n",
        "\n",
        "def valid_generator_triplet():\n",
        "    gen = ImageDataGenerator()\n",
        "    gen_a = gen.flow_from_directory(directory = valid_dir_anchor, target_size = (224, 224), batch_size = 1, class_mode = 'categorical', shuffle = False)\n",
        "    gen_p = gen.flow_from_directory(directory = valid_dir_positive, target_size = (224, 224), batch_size = 1, class_mode = 'categorical', shuffle = False)\n",
        "    gen_n = gen.flow_from_directory(directory = valid_dir_negative, target_size = (224, 224), batch_size = 1, class_mode = 'categorical', shuffle = False)\n",
        "    while True:\n",
        "        an = gen_a.next()\n",
        "        po = gen_p.next()\n",
        "        ne = gen_n.next()\n",
        "        yield [an[0], po[0], ne[0]], an[1]\n",
        "\n",
        "def test_generator_triplet():\n",
        "    gen = ImageDataGenerator()\n",
        "    gen_a = gen.flow_from_directory(directory = test_dir_anchor, target_size = (224, 224), batch_size = 1, class_mode = 'categorical', shuffle = False)\n",
        "    gen_p = gen.flow_from_directory(directory = test_dir_positive, target_size = (224, 224), batch_size = 1, class_mode = 'categorical', shuffle = False)\n",
        "    gen_n = gen.flow_from_directory(directory = test_dir_negative, target_size = (224, 224), batch_size = 1, class_mode = 'categorical', shuffle = False)\n",
        "    while True:\n",
        "        an = gen_a.next()\n",
        "        po = gen_p.next()\n",
        "        ne = gen_n.next()\n",
        "        yield [an[0], po[0], ne[0]], an[1]"
      ],
      "execution_count": null,
      "outputs": []
    },
    {
      "cell_type": "code",
      "metadata": {
        "id": "aGVq1HYlTjRr"
      },
      "source": [
        ""
      ],
      "execution_count": null,
      "outputs": []
    },
    {
      "cell_type": "markdown",
      "metadata": {
        "id": "26hblcefIWOs"
      },
      "source": [
        "# Loss & metric functions"
      ]
    },
    {
      "cell_type": "code",
      "metadata": {
        "id": "CyXpdUAuIWOt"
      },
      "source": [
        "# def triplet_loss(N = argN, epsilon = 1e-6):\n",
        "#     def triplet_loss(y_true, y_pred):\n",
        "#         beta = N\n",
        "#         print(\"Shape:\", y_pred.get_shape())\n",
        "\n",
        "#         anchor = y_pred[0::3]\n",
        "#         positive = y_pred[1::3]\n",
        "#         negative = y_pred[2::3]\n",
        "\n",
        "#         positive_distance = tf.reduce_sum(input_tensor=tf.square(tf.subtract(anchor, positive)), axis = 0, keepdims = True)\n",
        "#         negative_distance = tf.reduce_sum(input_tensor=tf.square(tf.subtract(anchor, negative)), axis = 0, keepdims = True)\n",
        "\n",
        "#         positive_distance = -tf.math.log(-tf.math.divide((positive_distance), beta) + 1 + epsilon)\n",
        "#         negative_distance = -tf.math.log(-tf.math.divide((N - negative_distance), beta) + 1 + epsilon)\n",
        "        \n",
        "#         #positive_distance = np.nansum(np.square(anchor - positive), axis = 1)\n",
        "#         #positive_distance = - np.log(- (positive_distance / beta) + 1 + epsilon)\n",
        "#         #negative_distance = np.nansum(np.square(anchor - negative), axis = 1)\n",
        "#         #negative_distance = - np.log(- (negative_distance / beta) + 1 + epsilon)\n",
        "        \n",
        "#         loss = positive_distance + negative_distance\n",
        "#         #loss = tf.math.maximum(positive_distance - negative_distance + 0.5, 0)\n",
        "#         return loss\n",
        "#     return triplet_loss\n",
        "\n",
        "def triplet_loss(N = argN, epsilon = 1e-6):\n",
        "    def triplet_loss(y_true, y_pred):\n",
        "        beta = N\n",
        "        print(\"Shape:\", y_pred.get_shape())\n",
        "\n",
        "        anchor = y_pred[0::3]\n",
        "        positive = y_pred[1::3]\n",
        "        negative = y_pred[2::3]\n",
        "\n",
        "        positive_distance = tf.sqrt(tf.reduce_sum(tf.pow(tf.subtract(anchor, positive), 2), 1, keepdims=True))\n",
        "        negative_distance = tf.sqrt(tf.reduce_sum(tf.pow(tf.subtract(anchor, negative), 2), 1, keepdims=True))\n",
        "\n",
        "        loss = tf.reduce_mean(tf.maximum(positive_distance - negative_distance + 0.5, 0))\n",
        "        return loss\n",
        "    return triplet_loss"
      ],
      "execution_count": null,
      "outputs": []
    },
    {
      "cell_type": "code",
      "metadata": {
        "id": "CT37Ji9aIWOv"
      },
      "source": [
        "def pd(N = argN, epsilon = 1e-6):\n",
        "    def pd(y_true, y_pred):\n",
        "        beta = N\n",
        "        anchor = y_pred[0::3]\n",
        "        positive = y_pred[1::3]\n",
        "        positive_distance = tf.reduce_sum(input_tensor=tf.square(tf.subtract(anchor, positive)), axis=0)\n",
        "        #positive_distance = -tf.math.log(-tf.math.divide((positive_distance), beta) + 1 + epsilon)\n",
        "        return backend.mean(positive_distance)\n",
        "    return pd\n",
        "\n",
        "def nd(N = argN, epsilon = 1e-06):\n",
        "    def nd(y_true, y_pred):\n",
        "        beta = N\n",
        "        anchor = y_pred[0::3]\n",
        "        negative = y_pred[2::3]\n",
        "        negative_distance = tf.reduce_sum(input_tensor=tf.square(tf.subtract(anchor, negative)), axis=0)\n",
        "        #negative_distance = -tf.math.log(-tf.math.divide((N - negative_distance), beta) + 1 + epsilon)\n",
        "        return backend.mean(negative_distance)\n",
        "    return nd"
      ],
      "execution_count": null,
      "outputs": []
    },
    {
      "cell_type": "markdown",
      "metadata": {
        "id": "VbEZR_cLIWOx"
      },
      "source": [
        "# Defining the model"
      ]
    },
    {
      "cell_type": "code",
      "metadata": {
        "id": "3Gzfluu_IWOy"
      },
      "source": [
        "def make_model():\n",
        "    input_a = Input(shape = (224, 224, 3),  name = 'input_a')\n",
        "    input_p = Input(shape = (224, 224, 3),  name = 'input_p')\n",
        "    input_n = Input(shape = (224, 224, 3),  name = 'input_n')\n",
        "\n",
        "    base_model = applications.VGG16(include_top = False, weights = 'imagenet')\n",
        "\n",
        "    l1_a = base_model.layers[0](input_a)\n",
        "    l1_p = base_model.layers[0](input_p)\n",
        "    l1_n = base_model.layers[0](input_n)\n",
        "\n",
        "    l2_a = base_model.layers[1](l1_a)\n",
        "    l2_p = base_model.layers[1](l1_p)\n",
        "    l2_n = base_model.layers[1](l1_n)\n",
        "\n",
        "    l3_a = base_model.layers[2](l2_a)\n",
        "    l3_p = base_model.layers[2](l2_p)\n",
        "    l3_n = base_model.layers[2](l2_n)\n",
        "\n",
        "    l4_a = base_model.layers[3](l3_a)\n",
        "    l4_p = base_model.layers[3](l3_p)\n",
        "    l4_n = base_model.layers[3](l3_n)\n",
        "\n",
        "    l5_a = base_model.layers[4](l4_a)\n",
        "    l5_p = base_model.layers[4](l4_p)\n",
        "    l5_n = base_model.layers[4](l4_n)\n",
        "\n",
        "    l6_a = base_model.layers[5](l5_a)\n",
        "    l6_p = base_model.layers[5](l5_p)\n",
        "    l6_n = base_model.layers[5](l5_n)\n",
        "\n",
        "    l7_a = base_model.layers[6](l6_a)\n",
        "    l7_p = base_model.layers[6](l6_p)\n",
        "    l7_n = base_model.layers[6](l6_n)\n",
        "\n",
        "    l8_a = base_model.layers[7](l7_a)\n",
        "    l8_p = base_model.layers[7](l7_p)\n",
        "    l8_n = base_model.layers[7](l7_n)\n",
        "\n",
        "    l9_a = base_model.layers[8](l8_a)\n",
        "    l9_p = base_model.layers[8](l8_p)\n",
        "    l9_n = base_model.layers[8](l8_n)\n",
        "\n",
        "    # l10_a = base_model.layers[9](l9_a)\n",
        "    # l10_p = base_model.layers[9](l9_p)\n",
        "    # l10_n = base_model.layers[9](l9_n)\n",
        "\n",
        "    # l11_a = base_model.layers[10](l10_a)\n",
        "    # l11_p = base_model.layers[10](l10_p)\n",
        "    # l11_n = base_model.layers[10](l10_n)\n",
        "\n",
        "    # l12_a = base_model.layers[11](l11_a)\n",
        "    # l12_p = base_model.layers[11](l11_p)\n",
        "    # l12_n = base_model.layers[11](l11_n)\n",
        "\n",
        "    # l13_a = base_model.layers[12](l12_a)\n",
        "    # l13_p = base_model.layers[12](l12_p)\n",
        "    # l13_n = base_model.layers[12](l12_n)\n",
        "\n",
        "    # l14_a = base_model.layers[13](l13_a)\n",
        "    # l14_p = base_model.layers[13](l13_p)\n",
        "    # l14_n = base_model.layers[13](l13_n)\n",
        "\n",
        "    # l15_a = base_model.layers[14](l14_a)\n",
        "    # l15_p = base_model.layers[14](l14_p)\n",
        "    # l15_n = base_model.layers[14](l14_n)\n",
        "\n",
        "    # l16_a = base_model.layers[15](l15_a)\n",
        "    # l16_p = base_model.layers[15](l15_p)\n",
        "    # l16_n = base_model.layers[15](l15_n)\n",
        "\n",
        "    # l17_a = base_model.layers[16](l16_a)\n",
        "    # l17_p = base_model.layers[16](l16_p)\n",
        "    # l17_n = base_model.layers[16](l16_n)\n",
        "\n",
        "    lt1 = Dense(64, activation = 'sigmoid')\n",
        "    lt2 = Dropout(0.5)\n",
        "    lt3 = Dense(8, activation = 'sigmoid')\n",
        "\n",
        "    lt1_a = lt1(l9_a)\n",
        "    lt1_p = lt1(l9_p)\n",
        "    lt1_n = lt1(l9_n)\n",
        "\n",
        "    lt2_a = lt2(lt1_a)\n",
        "    lt2_p = lt2(lt1_p)\n",
        "    lt2_n = lt2(lt1_n)\n",
        "\n",
        "    lt3_a = lt3(lt2_a)\n",
        "    lt3_p = lt3(lt2_p)\n",
        "    lt3_n = lt3(lt2_n)\n",
        "\n",
        "    output = tf.keras.layers.concatenate([lt3_a, lt3_p, lt3_n], axis = 0, name = 'out666')\n",
        "    model = tf.keras.models.Model(inputs = [input_a, input_p, input_n], outputs = output)\n",
        "\n",
        "    for layer in model.layers:\n",
        "        if layer.name == 'dense':\n",
        "            break\n",
        "        layer.trainable = False\n",
        "\n",
        "    model.compile(optimizer = optimizers.Adam(), loss = triplet_loss(), metrics = [pd(), nd()])\n",
        "\n",
        "    return model\n"
      ],
      "execution_count": null,
      "outputs": []
    },
    {
      "cell_type": "markdown",
      "metadata": {
        "id": "XHdsYbtaIWO1"
      },
      "source": [
        "# Training"
      ]
    },
    {
      "cell_type": "code",
      "metadata": {
        "id": "AL4pPvfBIWO1"
      },
      "source": [
        "def plot_metrics(history, metrics=['loss'], skip_start=0.):\n",
        "    \"\"\"\n",
        "    Plots metrics from keras training history.\n",
        "    \"\"\"\n",
        "    hist = history.history\n",
        "    start_indice = int(len(hist[metrics[0]]) * skip_start)\n",
        "    \n",
        "    for metric in metrics:\n",
        "        plt.plot(hist[metric][start_indice:], label=\"train {}\".format(metric))\n",
        "        plt.plot(hist[f\"val_{metric}\"][start_indice:], label=f\"val {metric}\")\n",
        "        plt.legend()\n",
        "        plt.title(metric)\n",
        "        plt.figure()\n",
        "    \n",
        "    plt.show()"
      ],
      "execution_count": null,
      "outputs": []
    },
    {
      "cell_type": "markdown",
      "metadata": {
        "id": "EsRyaOW6IWO4"
      },
      "source": [
        "Training loop"
      ]
    },
    {
      "cell_type": "markdown",
      "metadata": {
        "id": "0-cSiPMlIWO4"
      },
      "source": [
        "Setting up the callbacks. Added 2 additional callbacks for training:\n",
        "  - `EarlyStopping` - stops the model once it's no longer getting better at validation data\n",
        "  - `ReduceLROnPlateau` - reduces learning rate when model doesn't improve on the validation data for some period"
      ]
    },
    {
      "cell_type": "code",
      "metadata": {
        "id": "ofkTPm5WIWO5"
      },
      "source": [
        "callbacks = [\n",
        "#     TensorBoard(log_dir = tensorboard_log_dir, histogram_freq = 2, write_graph = True, write_images = True),\n",
        "#     ModelCheckpoint(checkpoint_auto_dir, save_weights_only = False, period = 100, verbose = 1),\n",
        "    EarlyStopping(monitor='val_loss', patience=15, verbose=1, restore_best_weights=True),\n",
        "    ReduceLROnPlateau(monitor='val_loss', factor=0.5, patience=3, verbose=1),\n",
        "]"
      ],
      "execution_count": null,
      "outputs": []
    },
    {
      "cell_type": "code",
      "metadata": {
        "colab": {
          "base_uri": "https://localhost:8080/"
        },
        "id": "Y6FHQSD6IWO8",
        "outputId": "aee82fc9-57c2-48f6-cffc-987f353bf55e"
      },
      "source": [
        "!nvidia-smi"
      ],
      "execution_count": null,
      "outputs": [
        {
          "output_type": "stream",
          "text": [
            "NVIDIA-SMI has failed because it couldn't communicate with the NVIDIA driver. Make sure that the latest NVIDIA driver is installed and running.\n",
            "\n"
          ],
          "name": "stdout"
        }
      ]
    },
    {
      "cell_type": "code",
      "metadata": {
        "colab": {
          "base_uri": "https://localhost:8080/",
          "height": 232
        },
        "id": "viYWAj7MIWO_",
        "outputId": "9c1a968b-06f1-433f-c783-5ba3d163a27e"
      },
      "source": [
        "model = make_model()\n",
        "history = model.fit_generator(\n",
        "    generator = train_generator_triplet(), \n",
        "    steps_per_epoch = 1188, \n",
        "    epochs = 16, \n",
        "    validation_data = valid_generator_triplet(), \n",
        "    validation_steps = 100, \n",
        "    callbacks = callbacks,\n",
        "    shuffle = False\n",
        ")"
      ],
      "execution_count": null,
      "outputs": [
        {
          "output_type": "error",
          "ename": "NameError",
          "evalue": "ignored",
          "traceback": [
            "\u001b[0;31m---------------------------------------------------------------------------\u001b[0m",
            "\u001b[0;31mNameError\u001b[0m                                 Traceback (most recent call last)",
            "\u001b[0;32m<ipython-input-2-4966422d6c78>\u001b[0m in \u001b[0;36m<module>\u001b[0;34m()\u001b[0m\n\u001b[0;32m----> 1\u001b[0;31m \u001b[0mmodel\u001b[0m \u001b[0;34m=\u001b[0m \u001b[0mmake_model\u001b[0m\u001b[0;34m(\u001b[0m\u001b[0;34m)\u001b[0m\u001b[0;34m\u001b[0m\u001b[0;34m\u001b[0m\u001b[0m\n\u001b[0m\u001b[1;32m      2\u001b[0m history = model.fit_generator(\n\u001b[1;32m      3\u001b[0m     \u001b[0mgenerator\u001b[0m \u001b[0;34m=\u001b[0m \u001b[0mtrain_generator_triplet\u001b[0m\u001b[0;34m(\u001b[0m\u001b[0;34m)\u001b[0m\u001b[0;34m,\u001b[0m\u001b[0;34m\u001b[0m\u001b[0;34m\u001b[0m\u001b[0m\n\u001b[1;32m      4\u001b[0m     \u001b[0msteps_per_epoch\u001b[0m \u001b[0;34m=\u001b[0m \u001b[0;36m1188\u001b[0m\u001b[0;34m,\u001b[0m\u001b[0;34m\u001b[0m\u001b[0;34m\u001b[0m\u001b[0m\n\u001b[1;32m      5\u001b[0m     \u001b[0mepochs\u001b[0m \u001b[0;34m=\u001b[0m \u001b[0;36m16\u001b[0m\u001b[0;34m,\u001b[0m\u001b[0;34m\u001b[0m\u001b[0;34m\u001b[0m\u001b[0m\n",
            "\u001b[0;31mNameError\u001b[0m: name 'make_model' is not defined"
          ]
        }
      ]
    },
    {
      "cell_type": "code",
      "metadata": {
        "id": "IATvqAxDIWPC"
      },
      "source": [
        "plot_metrics(history, metrics=['loss',], skip_start=0.0)\n"
      ],
      "execution_count": null,
      "outputs": []
    },
    {
      "cell_type": "code",
      "metadata": {
        "id": "jzOx6sefIWPF"
      },
      "source": [
        "model.save('/content/drive/My Drive/runtime_files/model.h5')\n"
      ],
      "execution_count": null,
      "outputs": []
    },
    {
      "cell_type": "code",
      "metadata": {
        "id": "O7mM9tpLIWPK"
      },
      "source": [
        "model = make_model()\n",
        "model.load_weights('/content/drive/My Drive/runtime_files/model56.h5')"
      ],
      "execution_count": null,
      "outputs": []
    },
    {
      "cell_type": "markdown",
      "metadata": {
        "id": "HUO7cbmYIWPM"
      },
      "source": [
        "\n",
        "\n",
        "```\n",
        "# This is formatted as code\n",
        "```\n",
        "\n",
        "`test_model` function not fixed yet"
      ]
    },
    {
      "cell_type": "code",
      "metadata": {
        "colab": {
          "base_uri": "https://localhost:8080/"
        },
        "id": "_BsDPsQMIWPN",
        "outputId": "4079beb3-4ab3-4af4-dd72-4bbf5daa2ada"
      },
      "source": [
        "test_samples = len(os.listdir(os.path.join(test_dir_anchor, \"0\")))\n",
        "results = model.predict_generator(generator = test_generator_triplet(), steps = test_samples, verbose = 0)"
      ],
      "execution_count": null,
      "outputs": [
        {
          "output_type": "stream",
          "text": [
            "/usr/local/lib/python3.7/dist-packages/tensorflow/python/keras/engine/training.py:1905: UserWarning: `Model.predict_generator` is deprecated and will be removed in a future version. Please use `Model.predict`, which supports generators.\n",
            "  warnings.warn('`Model.predict_generator` is deprecated and '\n"
          ],
          "name": "stderr"
        },
        {
          "output_type": "stream",
          "text": [
            "Found 64 images belonging to 1 classes.\n",
            "Found 64 images belonging to 1 classes.\n",
            "Found 64 images belonging to 1 classes.\n"
          ],
          "name": "stdout"
        }
      ]
    },
    {
      "cell_type": "code",
      "metadata": {
        "id": "BAek6kNWIWPP",
        "scrolled": true
      },
      "source": [
        "results_images = results[0,:,:,:]\n",
        "print(results_images)\n",
        "print(results_images.shape)\n",
        "for i in range(8):\n",
        "    plt.imshow(results_images[:,:,i])\n",
        "    plt.show()\n",
        "\n",
        "#plt.imshow(results_images)"
      ],
      "execution_count": null,
      "outputs": []
    },
    {
      "cell_type": "code",
      "metadata": {
        "id": "nuCf59JwIWPR",
        "scrolled": false
      },
      "source": [
        "anchor = results[0::3]\n",
        "positive = results[1::3]\n",
        "negative = results[2::3]\n",
        "\n",
        "def print_results(index, anchor, positive, negative):\n",
        "    for embedding_index in range(1):\n",
        "        print(\"Showing triplet embedding: {}\".format(embedding_index))\n",
        "        print(index)\n",
        "        plt.imshow(anchor[index,:,:,embedding_index])\n",
        "        plt.show()\n",
        "        plt.imshow(positive[index,:,:,embedding_index])\n",
        "        plt.show()\n",
        "        plt.imshow(negative[index,:,:,embedding_index])\n",
        "        plt.show()\n",
        "\n",
        "print_results(8, anchor, positive, negative)\n"
      ],
      "execution_count": null,
      "outputs": []
    },
    {
      "cell_type": "code",
      "metadata": {
        "colab": {
          "base_uri": "https://localhost:8080/",
          "height": 1000
        },
        "id": "EKyntpXnIWPT",
        "scrolled": true,
        "outputId": "d0304ce9-9c46-439c-ad92-0f318e45965f"
      },
      "source": [
        "beta = argN\n",
        "epsilon = 1e-6\n",
        "\n",
        "anchor = results[0::3]\n",
        "positive = results[1::3]\n",
        "negative = results[2::3]\n",
        "\n",
        "print(np.square(anchor - negative).shape)\n",
        "\n",
        "positive_distance = np.nansum(np.square(anchor - positive), axis = 1)\n",
        "negative_distance = np.nansum(np.square(anchor - negative), axis = 1)\n",
        "\n",
        "\n",
        "tp = 0\n",
        "fp = 0\n",
        "pneq = 0\n",
        "min_p = sys.maxsize\n",
        "max_p = 0\n",
        "min_n = sys.maxsize\n",
        "max_n = 0\n",
        "\n",
        "\n",
        "pd_list = []\n",
        "nd_list = []\n",
        "\n",
        "normalized_pd_list = []\n",
        "normalized_nd_list = []\n",
        "\n",
        "for i in range(test_samples):\n",
        "    pda = np.nansum(positive_distance[i])\n",
        "    nda = np.nansum(negative_distance[i])\n",
        "    \n",
        "    pd_list.append(pda)\n",
        "    nd_list.append(nda)\n",
        "\n",
        "    for pd, nd in zip(pd_list, nd_list):\n",
        "      # Max diff between 8 images of size 56*56 (network output)\n",
        "      pda = pd / 9408\n",
        "      nda = nd / 9408\n",
        "\n",
        "    normalized_pd_list.append(pda)\n",
        "    normalized_nd_list.append(nda)\n",
        "\n",
        "    print(\"Image: {}:\".format(i), pda, \"\\t\", nda)\n",
        "\n",
        "    if pda >= 0.25:\n",
        "        fp += 1\n",
        "    else:\n",
        "        tp += 1\n",
        "    if pda == nda:\n",
        "        pneq += 1\n",
        "\n",
        "    if min_p > pda:\n",
        "        min_p = pda\n",
        "    if max_p < pda:\n",
        "        max_p = pda\n",
        "\n",
        "    if min_n > nda:\n",
        "        min_n = nda\n",
        "    if max_n < nda:\n",
        "        max_n = nda\n",
        "\n",
        "\n",
        "plt.yticks(np.arange(0, 1.1, step=0.1))\n",
        "plt.plot(normalized_pd_list, label=\"Pozityvi\")\n",
        "plt.plot(normalized_nd_list, label=\"Negatyvi\")\n",
        "plt.legend()\n",
        "\n",
        "# plt.yticks(np.arange(0, 1.1, step=0.1))\n",
        "# plt.plot(normalized_pd_list)\n",
        "# plt.plot(normalized_nd_list)\n",
        "\n",
        "print(min_p, ' - ', max_p, ', ', min_n, ' - ', max_n)\n",
        "print('accuracy: ', np.round(tp / (tp + fp) * 100, 1))\n",
        "print('equal predictions: ', pneq)"
      ],
      "execution_count": null,
      "outputs": [
        {
          "output_type": "stream",
          "text": [
            "(64, 56, 56, 8)\n",
            "Image: 0: 2031.0931 \t 4954.414\n",
            "Image: 1: 2122.96 \t 5921.409\n",
            "Image: 2: 2114.465 \t 5462.425\n",
            "Image: 3: 2025.1476 \t 4863.015\n",
            "Image: 4: 1689.9541 \t 5213.389\n",
            "Image: 5: 1496.8867 \t 5665.338\n",
            "Image: 6: 1442.7769 \t 6313.6753\n",
            "Image: 7: 1400.8667 \t 6368.617\n",
            "Image: 8: 1373.0195 \t 6448.1885\n",
            "Image: 9: 1424.5686 \t 6816.365\n",
            "Image: 10: 1399.7272 \t 7262.7275\n",
            "Image: 11: 1317.2876 \t 4400.833\n",
            "Image: 12: 1139.9604 \t 5189.8047\n",
            "Image: 13: 1031.4603 \t 3412.862\n",
            "Image: 14: 1026.4255 \t 6709.228\n",
            "Image: 15: 1137.3186 \t 4368.425\n",
            "Image: 16: 1184.8116 \t 5368.6616\n",
            "Image: 17: 1253.513 \t 4811.2603\n",
            "Image: 18: 1287.4827 \t 5988.0527\n",
            "Image: 19: 1407.0494 \t 5270.4375\n",
            "Image: 20: 1521.8008 \t 5204.0654\n",
            "Image: 21: 1638.6974 \t 5578.3066\n",
            "Image: 22: 1564.6177 \t 6023.6553\n",
            "Image: 23: 1811.4618 \t 3029.3623\n",
            "Image: 24: 1782.5304 \t 7766.1826\n",
            "Image: 25: 1598.367 \t 2910.5923\n",
            "Image: 26: 1751.4014 \t 3876.3352\n",
            "Image: 27: 1867.7241 \t 4013.2122\n",
            "Image: 28: 1981.261 \t 4130.8877\n",
            "Image: 29: 1974.2893 \t 7038.5513\n",
            "Image: 30: 2108.441 \t 5164.1465\n",
            "Image: 31: 2283.6206 \t 8022.1396\n",
            "Image: 32: 2457.489 \t 4860.507\n",
            "Image: 33: 2534.2812 \t 5532.326\n",
            "Image: 34: 2605.033 \t 4762.9785\n",
            "Image: 35: 2439.6646 \t 6052.2305\n",
            "Image: 36: 2510.1646 \t 6401.916\n",
            "Image: 37: 2624.496 \t 4909.568\n",
            "Image: 38: 2520.099 \t 5397.67\n",
            "Image: 39: 2513.4644 \t 4316.8623\n",
            "Image: 40: 2583.8137 \t 6039.4062\n",
            "Image: 41: 2628.5078 \t 4443.565\n",
            "Image: 42: 2717.6025 \t 4557.731\n",
            "Image: 43: 2487.9536 \t 4294.3867\n",
            "Image: 44: 2191.5479 \t 4018.9287\n",
            "Image: 45: 1954.0281 \t 3651.4995\n",
            "Image: 46: 1751.5022 \t 4064.3926\n",
            "Image: 47: 1637.2258 \t 3041.4814\n",
            "Image: 48: 1610.8162 \t 2967.3796\n",
            "Image: 49: 1758.4673 \t 2815.3882\n",
            "Image: 50: 1697.7817 \t 5485.037\n",
            "Image: 51: 1701.2825 \t 3848.5786\n",
            "Image: 52: 1645.4355 \t 3127.2783\n",
            "Image: 53: 1864.0582 \t 4599.668\n",
            "Image: 54: 2127.94 \t 3892.5288\n",
            "Image: 55: 2069.546 \t 3799.8066\n",
            "Image: 56: 2003.948 \t 4623.5693\n",
            "Image: 57: 1938.1553 \t 5345.4697\n",
            "Image: 58: 1911.2378 \t 3346.0747\n",
            "Image: 59: 1862.6672 \t 6349.477\n",
            "Image: 60: 1707.7218 \t 2663.5747\n",
            "Image: 61: 1767.2876 \t 4660.199\n",
            "Image: 62: 1896.4078 \t 3885.8801\n",
            "Image: 63: 1891.595 \t 3662.7527\n",
            "1026.4255  -  2717.6025 ,  2663.5747  -  8022.1396\n",
            "accuracy:  0.0\n",
            "equal predictions:  0\n"
          ],
          "name": "stdout"
        },
        {
          "output_type": "display_data",
          "data": {
            "image/png": "[encoded data removed]",
            "text/plain": [
              "<Figure size 432x288 with 1 Axes>"
            ]
          },
          "metadata": {
            "tags": [],
            "needs_background": "light"
          }
        }
      ]
    },
    {
      "cell_type": "code",
      "metadata": {
        "id": "-3DCYqc_IWPV"
      },
      "source": [
        ""
      ],
      "execution_count": null,
      "outputs": []
    }
  ]
}